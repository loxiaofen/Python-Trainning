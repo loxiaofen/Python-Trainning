{
 "cells": [
  {
   "cell_type": "code",
   "execution_count": 3,
   "metadata": {},
   "outputs": [
    {
     "name": "stdout",
     "output_type": "stream",
     "text": [
      "{'one': 1, 'two': 2, 'three': 3, 'six': 6, 'five': 5, 'eight': 8, 'ten': 10, 'four': 4, 'nine': 9, 'seven': 7}\n"
     ]
    }
   ],
   "source": [
    "number = {\"one\":1,\n",
    "\"two\":2,\n",
    "\"three\":3,\n",
    "\"six\":6,\n",
    "\"five\":5,\n",
    "\"eight\":8,\n",
    "\"ten\":10,\n",
    "\"four\":4,\n",
    "\"nine\":9,\n",
    "\"seven\":7}\n",
    "print (number)"
   ]
  },
  {
   "cell_type": "code",
   "execution_count": null,
   "metadata": {},
   "outputs": [],
   "source": []
  }
 ],
 "metadata": {
  "kernelspec": {
   "display_name": "Python 3",
   "language": "python",
   "name": "python3"
  },
  "language_info": {
   "codemirror_mode": {
    "name": "ipython",
    "version": 3
   },
   "file_extension": ".py",
   "mimetype": "text/x-python",
   "name": "python",
   "nbconvert_exporter": "python",
   "pygments_lexer": "ipython3",
   "version": "3.8.8"
  }
 },
 "nbformat": 4,
 "nbformat_minor": 4
}
